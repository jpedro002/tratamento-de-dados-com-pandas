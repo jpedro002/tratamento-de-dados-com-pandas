import pandas as pd

# Carregue o DataFrame a partir do arquivo Excel
minhaTabela = pd.read_excel('respostas-form.xlsx')

# Mapeie os valores de texto para números
mapeamento = {
    'Menos de 1 Hora': 0,
    '1 Hora': 1,
    '2 Horas': 2,
    '3 Horas': 3,
    '4 Horas': 4,
    '5 Horas': 5,
    # Adicione mais mapeamentos conforme necessário
}

# Use a função .replace() para mapear os valores
minhaTabela['Aproximadamente quanto tempo você dedica aos jogos por dia?'] = minhaTabela['Aproximadamente quanto tempo você dedica aos jogos por dia?'].replace(mapeamento)

# Filtrar as linhas em que as pessoas se dedicam de 1 a 2 horas por dia aos jogos
filtro = (minhaTabela['Aproximadamente quanto tempo você dedica aos jogos por dia?'] >= 1) & (minhaTabela['Aproximadamente quanto tempo você dedica aos jogos por dia?'] <= 2)

# Crie um novo DataFrame apenas com as linhas que atendem à condição
resultados = minhaTabela[filtro]

# Exiba o novo DataFrame com as linhas filtradas
print(resultados)
